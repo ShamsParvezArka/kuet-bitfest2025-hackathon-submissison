{
 "cells": [
  {
   "cell_type": "code",
   "execution_count": null,
   "id": "a50c63b6-919b-4793-8437-e30fca5fc382",
   "metadata": {},
   "outputs": [],
   "source": [
    "from transformers import MT5Tokenizer, MT5ForConditionalGeneration, Trainer, TrainingArguments\n",
    "from datasets import load_dataset\n",
    "import pandas as pd\n",
    "import numpy as np\n",
    "from datasets import load_dataset"
   ]
  },
  {
   "cell_type": "code",
   "execution_count": null,
   "id": "b427cc42-6f35-43f5-b817-9ed75144c21b",
   "metadata": {},
   "outputs": [],
   "source": [
    "model_name = \"google/mt5-small\"\n",
    "tokenizer = MT5Tokenizer.from_pretrained(\"google/mt5-small\")"
   ]
  },
  {
   "cell_type": "code",
   "execution_count": null,
   "id": "b398ae5f-62fb-4e5e-8882-7b45887ee0ad",
   "metadata": {},
   "outputs": [],
   "source": [
    "def main() -> None:\n",
    "    data = load_dataset(\"SKNahin/bengali-transliteration-data\")\n",
    "    df = data[\"train\"].to_pandas()\n",
    "    df.to_csv('amalgam.csv', index=False)\n",
    "\n",
    "    dataset = load_dataset('csv', data_files={'train': 'amalgam.csv'})\n",
    "    tokenized_datasets = dataset[\"train\"].map(preprocess_function, batched=True)\n",
    "    model = MT5ForConditionalGeneration.from_pretrained(model_name)\n",
    "\n",
    "    training_args = TrainingArguments(\n",
    "        output_dir=\"./results\",\n",
    "        eval_strategy=\"no\",\n",
    "        learning_rate=2e-5,\n",
    "        per_device_train_batch_size=16,\n",
    "        num_train_epochs=3,\n",
    "        weight_decay=0.01,\n",
    "        save_total_limit=2,\n",
    "    )\n",
    "    trainer = Trainer(\n",
    "        model=model,\n",
    "        args=training_args,\n",
    "        train_dataset=tokenized_datasets,\n",
    "    )\n",
    "\n",
    "    trainer.train()\n",
    "\n",
    "    trainer.save_model(\"trained_banglish_to_bangla_model\")\n",
    "    model = MT5ForConditionalGeneration.from_pretrained(\"trained_banglish_to_bangla_model\")\n",
    "    tokenizer = MT5Tokenizer.from_pretrained(\"trained_banglish_to_bangla_model\")\n",
    "\n",
    "    run_state_machine() "
   ]
  },
  {
   "cell_type": "code",
   "execution_count": null,
   "id": "5c49df28-657b-4356-a124-c1185d2fadcb",
   "metadata": {},
   "outputs": [],
   "source": [
    "def run_state_machine() -> None:\n",
    "    while True:\n",
    "        user_input = input(\"Enter Banglish text: \")\n",
    "        if user_input.lower() == \"exit\":\n",
    "            break\n",
    "        translated_output = translate_banglish_to_bangla(user_input)\n",
    "        print(\"Bangla translation:\", translated_output)\n"
   ]
  },
  {
   "cell_type": "code",
   "execution_count": null,
   "id": "7d096f98-5961-47cf-ab4a-b9bc34141c9f",
   "metadata": {},
   "outputs": [],
   "source": [
    "def preprocess_function(examples: dict[str, str]) -> dict[str, str]:\n",
    "    inputs = examples[\"rm\"]\n",
    "    targets = examples[\"bn\"]\n",
    "    model_inputs = tokenizer(inputs, max_length=128, truncation=True, padding=\"max_length\")\n",
    "    labels = tokenizer(targets, max_length=128, truncation=True, padding=\"max_length\")\n",
    "    model_inputs[\"labels\"] = labels[\"input_ids\"]\n",
    "    \n",
    "    return model_inputs"
   ]
  },
  {
   "cell_type": "code",
   "execution_count": null,
   "id": "d9ebba3e-55ff-4c4b-a2b2-ff18db738ce2",
   "metadata": {},
   "outputs": [],
   "source": [
    "def translate_banglish_to_bangla(banglish_text: str) -> str:\n",
    "    inputs = tokenizer(banglish_text, return_tensors=\"pt\", padding=True, truncation=True)\n",
    "    outputs = model.generate(**inputs)\n",
    "    translated_text = tokenizer.decode(outputs[0], skip_special_tokens=True)\n",
    "    \n",
    "    return translated_text"
   ]
  },
  {
   "cell_type": "code",
   "execution_count": null,
   "id": "e049ce69-2ab5-4231-9ed4-465e0bc6a2bf",
   "metadata": {},
   "outputs": [],
   "source": [
    "if __name__ == \"__main__\":\n",
    "    main()"
   ]
  }
 ],
 "metadata": {
  "kernelspec": {
   "display_name": "Python 3 (ipykernel)",
   "language": "python",
   "name": "python3"
  },
  "language_info": {
   "codemirror_mode": {
    "name": "ipython",
    "version": 3
   },
   "file_extension": ".py",
   "mimetype": "text/x-python",
   "name": "python",
   "nbconvert_exporter": "python",
   "pygments_lexer": "ipython3",
   "version": "3.12.6"
  }
 },
 "nbformat": 4,
 "nbformat_minor": 5
}
